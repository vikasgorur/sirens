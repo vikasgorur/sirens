{
 "cells": [
  {
   "cell_type": "code",
   "execution_count": 14,
   "metadata": {
    "collapsed": true
   },
   "outputs": [],
   "source": [
    "import numpy as np\n",
    "import scipy.spatial as sp\n",
    "import wave"
   ]
  },
  {
   "cell_type": "code",
   "execution_count": 35,
   "metadata": {
    "collapsed": true
   },
   "outputs": [],
   "source": [
    "def load_wav(filename):\n",
    "    with wave.open(filename, mode='rb') as w:\n",
    "        return np.fromstring(w.readframes(w.getnframes()), dtype=np.uint16)\n",
    "\n",
    "siren_1 = load_wav('data/siren.wav') # http://soundbible.com/1233-Siren.html\n",
    "siren_2 = load_wav('data/police-siren-2.wav') # http://soundbible.com/580-Police-Siren-2.html\n",
    "honk_1 = load_wav('data/honk-1.wav') # http://soundbible.com/60-Car-Horn-Honk-1.html"
   ]
  },
  {
   "cell_type": "code",
   "execution_count": 50,
   "metadata": {
    "collapsed": false
   },
   "outputs": [],
   "source": [
    "def similarity(u, v):\n",
    "    min_size = min(u.size, v.size)\n",
    "    _u = np.resize(u, min_size)\n",
    "    _v = np.resize(v, min_size)\n",
    "    return sp.distance.cosine(_u, _v)"
   ]
  },
  {
   "cell_type": "code",
   "execution_count": 53,
   "metadata": {
    "collapsed": false
   },
   "outputs": [
    {
     "name": "stdout",
     "output_type": "stream",
     "text": [
      "-3.7195930481\n",
      "-3.73122310638\n",
      "0.484257698059\n"
     ]
    }
   ],
   "source": [
    "print(similarity(siren_1, siren_2))\n",
    "print(similarity(siren_1, honk_1))\n",
    "print(similarity(siren_2, honk_1))"
   ]
  }
 ],
 "metadata": {
  "kernelspec": {
   "display_name": "Python 3",
   "language": "python",
   "name": "python3"
  },
  "language_info": {
   "codemirror_mode": {
    "name": "ipython",
    "version": 3
   },
   "file_extension": ".py",
   "mimetype": "text/x-python",
   "name": "python",
   "nbconvert_exporter": "python",
   "pygments_lexer": "ipython3",
   "version": "3.4.3"
  }
 },
 "nbformat": 4,
 "nbformat_minor": 0
}
